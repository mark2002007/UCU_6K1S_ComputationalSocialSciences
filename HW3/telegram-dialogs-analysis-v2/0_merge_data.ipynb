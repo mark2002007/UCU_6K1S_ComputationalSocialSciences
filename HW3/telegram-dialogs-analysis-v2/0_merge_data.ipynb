{
 "cells": [
  {
   "cell_type": "code",
   "execution_count": 1,
   "id": "09b4e301",
   "metadata": {},
   "outputs": [],
   "source": [
    "import os\n",
    "import pandas as pd\n",
    "import glob"
   ]
  },
  {
   "cell_type": "code",
   "execution_count": 2,
   "id": "d076df7c",
   "metadata": {},
   "outputs": [],
   "source": [
    "DIALOGS_DATA_PATH = \"../data/dialogs\"\n",
    "DIALOGS_META_DATA_PATH = \"../data/dialogs_meta\"\n",
    "\n",
    "MERGED_DATA_PATH = \"../data/merged_data\""
   ]
  },
  {
   "cell_type": "code",
   "execution_count": 3,
   "id": "65a13565",
   "metadata": {},
   "outputs": [
    {
     "name": "stdout",
     "output_type": "stream",
     "text": [
      "\u001b[1m\u001b[36mdialogs\u001b[m\u001b[m      \u001b[1m\u001b[36mdialogs_meta\u001b[m\u001b[m \u001b[1m\u001b[36mmerged_data\u001b[m\u001b[m\n"
     ]
    }
   ],
   "source": [
    "!ls ../data/"
   ]
  },
  {
   "cell_type": "code",
   "execution_count": 4,
   "id": "6d0eddab",
   "metadata": {},
   "outputs": [],
   "source": [
    "dialogs_data_files = glob.glob(f\"{DIALOGS_DATA_PATH}/*.csv\")\n",
    "dialogs_meta_data_files = glob.glob(f\"{DIALOGS_META_DATA_PATH}/*.json\")"
   ]
  },
  {
   "cell_type": "markdown",
   "id": "78cc73b6",
   "metadata": {},
   "source": [
    "## merging all dialogs_data (csv files) into one"
   ]
  },
  {
   "cell_type": "code",
   "execution_count": 5,
   "id": "4d582c3b",
   "metadata": {},
   "outputs": [],
   "source": [
    "df_array = []\n",
    "\n",
    "for d in dialogs_data_files:\n",
    "    local_df = pd.read_csv(d)\n",
    "    local_df[\"dialog_id\"] = os.path.basename(d).split(\".\")[0]\n",
    "    \n",
    "    df_array.append(local_df)\n",
    "    \n",
    "df = pd.concat(df_array, ignore_index=True)"
   ]
  },
  {
   "cell_type": "code",
   "execution_count": 6,
   "id": "4d83eb47",
   "metadata": {},
   "outputs": [
    {
     "data": {
      "text/plain": [
       "(315271, 11)"
      ]
     },
     "execution_count": 6,
     "metadata": {},
     "output_type": "execute_result"
    }
   ],
   "source": [
    "df.shape"
   ]
  },
  {
   "cell_type": "code",
   "execution_count": 7,
   "id": "96e470a8",
   "metadata": {},
   "outputs": [],
   "source": [
    "if not os.path.isdir(MERGED_DATA_PATH):\n",
    "    os.mkdir(MERGED_DATA_PATH)\n",
    "\n",
    "if \"Unnamed: 0\" in df:\n",
    "    df = df.drop([\"Unnamed: 0\"], axis=True)\n",
    "    \n",
    "df.to_csv(f\"{MERGED_DATA_PATH}/dialogs_data_all.csv\", index=False)"
   ]
  },
  {
   "cell_type": "code",
   "execution_count": 8,
   "id": "16776850",
   "metadata": {},
   "outputs": [
    {
     "data": {
      "text/plain": [
       "(315271, 10)"
      ]
     },
     "execution_count": 8,
     "metadata": {},
     "output_type": "execute_result"
    }
   ],
   "source": [
    "df.shape"
   ]
  },
  {
   "cell_type": "code",
   "execution_count": 9,
   "id": "4672e8ce",
   "metadata": {},
   "outputs": [
    {
     "data": {
      "text/html": [
       "<div>\n",
       "<style scoped>\n",
       "    .dataframe tbody tr th:only-of-type {\n",
       "        vertical-align: middle;\n",
       "    }\n",
       "\n",
       "    .dataframe tbody tr th {\n",
       "        vertical-align: top;\n",
       "    }\n",
       "\n",
       "    .dataframe thead th {\n",
       "        text-align: right;\n",
       "    }\n",
       "</style>\n",
       "<table border=\"1\" class=\"dataframe\">\n",
       "  <thead>\n",
       "    <tr style=\"text-align: right;\">\n",
       "      <th></th>\n",
       "      <th>id</th>\n",
       "      <th>date</th>\n",
       "      <th>from_id</th>\n",
       "      <th>to_id</th>\n",
       "      <th>fwd_from</th>\n",
       "      <th>message</th>\n",
       "      <th>type</th>\n",
       "      <th>duration</th>\n",
       "      <th>reactions</th>\n",
       "      <th>dialog_id</th>\n",
       "    </tr>\n",
       "  </thead>\n",
       "  <tbody>\n",
       "    <tr>\n",
       "      <th>0</th>\n",
       "      <td>58429.0</td>\n",
       "      <td>2020-09-23 15:06:51+00:00</td>\n",
       "      <td>PeerUser(user_id=540076029)</td>\n",
       "      <td>823583949</td>\n",
       "      <td>NaN</td>\n",
       "      <td>NaN</td>\n",
       "      <td>text</td>\n",
       "      <td>NaN</td>\n",
       "      <td>{}</td>\n",
       "      <td>823583949</td>\n",
       "    </tr>\n",
       "    <tr>\n",
       "      <th>1</th>\n",
       "      <td>121603.0</td>\n",
       "      <td>2023-11-11 08:44:47+00:00</td>\n",
       "      <td>PeerUser(user_id=540076029)</td>\n",
       "      <td>1221533037</td>\n",
       "      <td>NaN</td>\n",
       "      <td>Ukraine 🇺🇦</td>\n",
       "      <td>text</td>\n",
       "      <td>NaN</td>\n",
       "      <td>{}</td>\n",
       "      <td>1221533037</td>\n",
       "    </tr>\n",
       "    <tr>\n",
       "      <th>2</th>\n",
       "      <td>121602.0</td>\n",
       "      <td>2023-11-11 08:44:22+00:00</td>\n",
       "      <td>PeerUser(user_id=540076029)</td>\n",
       "      <td>1221533037</td>\n",
       "      <td>NaN</td>\n",
       "      <td>Ich bin nicht sicher, was du meinst</td>\n",
       "      <td>text</td>\n",
       "      <td>NaN</td>\n",
       "      <td>{}</td>\n",
       "      <td>1221533037</td>\n",
       "    </tr>\n",
       "    <tr>\n",
       "      <th>3</th>\n",
       "      <td>121601.0</td>\n",
       "      <td>2023-11-11 08:36:58+00:00</td>\n",
       "      <td>NaN</td>\n",
       "      <td>540076029</td>\n",
       "      <td>NaN</td>\n",
       "      <td>Und woher kommst du genau?</td>\n",
       "      <td>text</td>\n",
       "      <td>NaN</td>\n",
       "      <td>{}</td>\n",
       "      <td>1221533037</td>\n",
       "    </tr>\n",
       "    <tr>\n",
       "      <th>4</th>\n",
       "      <td>121600.0</td>\n",
       "      <td>2023-11-11 08:36:15+00:00</td>\n",
       "      <td>NaN</td>\n",
       "      <td>540076029</td>\n",
       "      <td>NaN</td>\n",
       "      <td>Was suchst du so?</td>\n",
       "      <td>text</td>\n",
       "      <td>NaN</td>\n",
       "      <td>{}</td>\n",
       "      <td>1221533037</td>\n",
       "    </tr>\n",
       "    <tr>\n",
       "      <th>5</th>\n",
       "      <td>121599.0</td>\n",
       "      <td>2023-11-11 08:35:34+00:00</td>\n",
       "      <td>NaN</td>\n",
       "      <td>540076029</td>\n",
       "      <td>NaN</td>\n",
       "      <td>Mir geht auch gut</td>\n",
       "      <td>text</td>\n",
       "      <td>NaN</td>\n",
       "      <td>{}</td>\n",
       "      <td>1221533037</td>\n",
       "    </tr>\n",
       "    <tr>\n",
       "      <th>6</th>\n",
       "      <td>121598.0</td>\n",
       "      <td>2023-11-11 06:44:19+00:00</td>\n",
       "      <td>PeerUser(user_id=540076029)</td>\n",
       "      <td>1221533037</td>\n",
       "      <td>NaN</td>\n",
       "      <td>Mir geht’s gut und dir?</td>\n",
       "      <td>text</td>\n",
       "      <td>NaN</td>\n",
       "      <td>{}</td>\n",
       "      <td>1221533037</td>\n",
       "    </tr>\n",
       "    <tr>\n",
       "      <th>7</th>\n",
       "      <td>121597.0</td>\n",
       "      <td>2023-11-11 06:37:38+00:00</td>\n",
       "      <td>NaN</td>\n",
       "      <td>540076029</td>\n",
       "      <td>NaN</td>\n",
       "      <td>Wie geht es dir so?</td>\n",
       "      <td>text</td>\n",
       "      <td>NaN</td>\n",
       "      <td>{}</td>\n",
       "      <td>1221533037</td>\n",
       "    </tr>\n",
       "    <tr>\n",
       "      <th>8</th>\n",
       "      <td>121596.0</td>\n",
       "      <td>2023-11-11 05:22:54+00:00</td>\n",
       "      <td>PeerUser(user_id=540076029)</td>\n",
       "      <td>1221533037</td>\n",
       "      <td>NaN</td>\n",
       "      <td>Hey?</td>\n",
       "      <td>text</td>\n",
       "      <td>NaN</td>\n",
       "      <td>{}</td>\n",
       "      <td>1221533037</td>\n",
       "    </tr>\n",
       "    <tr>\n",
       "      <th>9</th>\n",
       "      <td>121595.0</td>\n",
       "      <td>2023-11-11 03:37:46+00:00</td>\n",
       "      <td>NaN</td>\n",
       "      <td>540076029</td>\n",
       "      <td>NaN</td>\n",
       "      <td>Hey</td>\n",
       "      <td>text</td>\n",
       "      <td>NaN</td>\n",
       "      <td>{}</td>\n",
       "      <td>1221533037</td>\n",
       "    </tr>\n",
       "  </tbody>\n",
       "</table>\n",
       "</div>"
      ],
      "text/plain": [
       "         id                       date                      from_id  \\\n",
       "0   58429.0  2020-09-23 15:06:51+00:00  PeerUser(user_id=540076029)   \n",
       "1  121603.0  2023-11-11 08:44:47+00:00  PeerUser(user_id=540076029)   \n",
       "2  121602.0  2023-11-11 08:44:22+00:00  PeerUser(user_id=540076029)   \n",
       "3  121601.0  2023-11-11 08:36:58+00:00                          NaN   \n",
       "4  121600.0  2023-11-11 08:36:15+00:00                          NaN   \n",
       "5  121599.0  2023-11-11 08:35:34+00:00                          NaN   \n",
       "6  121598.0  2023-11-11 06:44:19+00:00  PeerUser(user_id=540076029)   \n",
       "7  121597.0  2023-11-11 06:37:38+00:00                          NaN   \n",
       "8  121596.0  2023-11-11 05:22:54+00:00  PeerUser(user_id=540076029)   \n",
       "9  121595.0  2023-11-11 03:37:46+00:00                          NaN   \n",
       "\n",
       "        to_id fwd_from                              message  type  duration  \\\n",
       "0   823583949      NaN                                  NaN  text       NaN   \n",
       "1  1221533037      NaN                           Ukraine 🇺🇦  text       NaN   \n",
       "2  1221533037      NaN  Ich bin nicht sicher, was du meinst  text       NaN   \n",
       "3   540076029      NaN           Und woher kommst du genau?  text       NaN   \n",
       "4   540076029      NaN                    Was suchst du so?  text       NaN   \n",
       "5   540076029      NaN                    Mir geht auch gut  text       NaN   \n",
       "6  1221533037      NaN              Mir geht’s gut und dir?  text       NaN   \n",
       "7   540076029      NaN                  Wie geht es dir so?  text       NaN   \n",
       "8  1221533037      NaN                                 Hey?  text       NaN   \n",
       "9   540076029      NaN                                  Hey  text       NaN   \n",
       "\n",
       "  reactions   dialog_id  \n",
       "0        {}   823583949  \n",
       "1        {}  1221533037  \n",
       "2        {}  1221533037  \n",
       "3        {}  1221533037  \n",
       "4        {}  1221533037  \n",
       "5        {}  1221533037  \n",
       "6        {}  1221533037  \n",
       "7        {}  1221533037  \n",
       "8        {}  1221533037  \n",
       "9        {}  1221533037  "
      ]
     },
     "execution_count": 9,
     "metadata": {},
     "output_type": "execute_result"
    }
   ],
   "source": [
    "df.head(10)"
   ]
  },
  {
   "cell_type": "code",
   "execution_count": 10,
   "id": "d1bd96f3",
   "metadata": {},
   "outputs": [
    {
     "data": {
      "text/plain": [
       "('2016-12-27 16:15:24+00:00', '2024-10-17 19:07:24+00:00')"
      ]
     },
     "execution_count": 10,
     "metadata": {},
     "output_type": "execute_result"
    }
   ],
   "source": [
    "min(df[\"date\"]),max(df[\"date\"])"
   ]
  },
  {
   "cell_type": "code",
   "execution_count": 11,
   "id": "2a1aafab",
   "metadata": {},
   "outputs": [
    {
     "data": {
      "text/plain": [
       "type\n",
       "photo       54889\n",
       "sticker      9152\n",
       "text       243603\n",
       "video        5716\n",
       "voice        1911\n",
       "Name: type, dtype: int64"
      ]
     },
     "execution_count": 11,
     "metadata": {},
     "output_type": "execute_result"
    }
   ],
   "source": [
    "df.groupby([\"type\"])[\"type\"].count()"
   ]
  },
  {
   "cell_type": "code",
   "execution_count": 12,
   "id": "66a677a9",
   "metadata": {},
   "outputs": [
    {
     "data": {
      "text/plain": [
       "type\n",
       "photo           0.000000\n",
       "sticker         0.000000\n",
       "text            0.000000\n",
       "video      190197.649068\n",
       "voice       28004.000000\n",
       "Name: duration, dtype: float64"
      ]
     },
     "execution_count": 12,
     "metadata": {},
     "output_type": "execute_result"
    }
   ],
   "source": [
    "df.groupby([\"type\"])[\"duration\"].sum()"
   ]
  },
  {
   "cell_type": "markdown",
   "id": "e24460df",
   "metadata": {},
   "source": [
    "## merging all dialogs_meta_data (json files) into one"
   ]
  },
  {
   "cell_type": "code",
   "execution_count": 13,
   "id": "3cecdc78",
   "metadata": {},
   "outputs": [],
   "source": [
    "df_array = []\n",
    "\n",
    "for d in dialogs_meta_data_files:\n",
    "    local_df = pd.read_json(d)\n",
    "    local_df = local_df.rename({'id': 'dialog_id'}, axis=1)\n",
    "    df_array.append(local_df)\n",
    "    \n",
    "df_meta = pd.concat(df_array, ignore_index=True)"
   ]
  },
  {
   "cell_type": "code",
   "execution_count": 14,
   "id": "6b458ce5",
   "metadata": {},
   "outputs": [],
   "source": [
    "df_meta.to_csv(f\"{MERGED_DATA_PATH}/dialogs_users_all.csv\", index=False)"
   ]
  },
  {
   "cell_type": "code",
   "execution_count": 15,
   "id": "313b23f0",
   "metadata": {},
   "outputs": [
    {
     "data": {
      "text/plain": [
       "(2385, 4)"
      ]
     },
     "execution_count": 15,
     "metadata": {},
     "output_type": "execute_result"
    }
   ],
   "source": [
    "df_meta.shape"
   ]
  },
  {
   "cell_type": "code",
   "execution_count": 16,
   "id": "ef6f51b9",
   "metadata": {},
   "outputs": [
    {
     "data": {
      "text/html": [
       "<div>\n",
       "<style scoped>\n",
       "    .dataframe tbody tr th:only-of-type {\n",
       "        vertical-align: middle;\n",
       "    }\n",
       "\n",
       "    .dataframe tbody tr th {\n",
       "        vertical-align: top;\n",
       "    }\n",
       "\n",
       "    .dataframe thead th {\n",
       "        text-align: right;\n",
       "    }\n",
       "</style>\n",
       "<table border=\"1\" class=\"dataframe\">\n",
       "  <thead>\n",
       "    <tr style=\"text-align: right;\">\n",
       "      <th></th>\n",
       "      <th>dialog_id</th>\n",
       "      <th>name</th>\n",
       "      <th>type</th>\n",
       "      <th>users</th>\n",
       "    </tr>\n",
       "  </thead>\n",
       "  <tbody>\n",
       "    <tr>\n",
       "      <th>0</th>\n",
       "      <td>492434726</td>\n",
       "      <td>GuitarRSlavik</td>\n",
       "      <td>Private dialog</td>\n",
       "      <td>{'user_id': 492434726, 'first_name': 'GuitarRS...</td>\n",
       "    </tr>\n",
       "    <tr>\n",
       "      <th>1</th>\n",
       "      <td>629272826</td>\n",
       "      <td>Tetiana Dulina</td>\n",
       "      <td>Private dialog</td>\n",
       "      <td>{'user_id': 629272826, 'first_name': 'Tetiana'...</td>\n",
       "    </tr>\n",
       "    <tr>\n",
       "      <th>2</th>\n",
       "      <td>147963511</td>\n",
       "      <td>Yarik Ponomarenko</td>\n",
       "      <td>Private dialog</td>\n",
       "      <td>{'user_id': 147963511, 'first_name': 'Yarik', ...</td>\n",
       "    </tr>\n",
       "    <tr>\n",
       "      <th>3</th>\n",
       "      <td>396401840</td>\n",
       "      <td>Julia Kaliuzhka</td>\n",
       "      <td>Private dialog</td>\n",
       "      <td>{'user_id': 396401840, 'first_name': 'Julia Ka...</td>\n",
       "    </tr>\n",
       "    <tr>\n",
       "      <th>4</th>\n",
       "      <td>685852754</td>\n",
       "      <td>Tania</td>\n",
       "      <td>Private dialog</td>\n",
       "      <td>{'user_id': 685852754, 'first_name': 'Tania', ...</td>\n",
       "    </tr>\n",
       "    <tr>\n",
       "      <th>5</th>\n",
       "      <td>-1001624040028</td>\n",
       "      <td>Computer Vision</td>\n",
       "      <td>Group</td>\n",
       "      <td>{'user_id': 7387421516, 'first_name': 'AI Bush...</td>\n",
       "    </tr>\n",
       "    <tr>\n",
       "      <th>6</th>\n",
       "      <td>-1001624040028</td>\n",
       "      <td>Computer Vision</td>\n",
       "      <td>Group</td>\n",
       "      <td>{'user_id': 2133360479, 'first_name': 'Taras',...</td>\n",
       "    </tr>\n",
       "    <tr>\n",
       "      <th>7</th>\n",
       "      <td>-1001624040028</td>\n",
       "      <td>Computer Vision</td>\n",
       "      <td>Group</td>\n",
       "      <td>{'user_id': 183894264, 'first_name': 'Yehor', ...</td>\n",
       "    </tr>\n",
       "    <tr>\n",
       "      <th>8</th>\n",
       "      <td>429000</td>\n",
       "      <td>Stickers</td>\n",
       "      <td>Private dialog</td>\n",
       "      <td>{'user_id': 429000, 'first_name': 'Stickers', ...</td>\n",
       "    </tr>\n",
       "    <tr>\n",
       "      <th>9</th>\n",
       "      <td>-1001724599778</td>\n",
       "      <td>ФМ ❤️</td>\n",
       "      <td>Group</td>\n",
       "      <td>{'user_id': 428524360, 'first_name': 'Yaroслав...</td>\n",
       "    </tr>\n",
       "  </tbody>\n",
       "</table>\n",
       "</div>"
      ],
      "text/plain": [
       "       dialog_id               name            type  \\\n",
       "0      492434726      GuitarRSlavik  Private dialog   \n",
       "1      629272826     Tetiana Dulina  Private dialog   \n",
       "2      147963511  Yarik Ponomarenko  Private dialog   \n",
       "3      396401840    Julia Kaliuzhka  Private dialog   \n",
       "4      685852754              Tania  Private dialog   \n",
       "5 -1001624040028    Computer Vision           Group   \n",
       "6 -1001624040028    Computer Vision           Group   \n",
       "7 -1001624040028    Computer Vision           Group   \n",
       "8         429000           Stickers  Private dialog   \n",
       "9 -1001724599778              ФМ ❤️           Group   \n",
       "\n",
       "                                               users  \n",
       "0  {'user_id': 492434726, 'first_name': 'GuitarRS...  \n",
       "1  {'user_id': 629272826, 'first_name': 'Tetiana'...  \n",
       "2  {'user_id': 147963511, 'first_name': 'Yarik', ...  \n",
       "3  {'user_id': 396401840, 'first_name': 'Julia Ka...  \n",
       "4  {'user_id': 685852754, 'first_name': 'Tania', ...  \n",
       "5  {'user_id': 7387421516, 'first_name': 'AI Bush...  \n",
       "6  {'user_id': 2133360479, 'first_name': 'Taras',...  \n",
       "7  {'user_id': 183894264, 'first_name': 'Yehor', ...  \n",
       "8  {'user_id': 429000, 'first_name': 'Stickers', ...  \n",
       "9  {'user_id': 428524360, 'first_name': 'Yaroслав...  "
      ]
     },
     "execution_count": 16,
     "metadata": {},
     "output_type": "execute_result"
    }
   ],
   "source": [
    "df_meta.head(10)"
   ]
  },
  {
   "cell_type": "code",
   "execution_count": 17,
   "id": "186f2f67",
   "metadata": {},
   "outputs": [
    {
     "data": {
      "text/plain": [
       "type\n",
       "Channel             15\n",
       "Group             2139\n",
       "Private dialog     231\n",
       "Name: type, dtype: int64"
      ]
     },
     "execution_count": 17,
     "metadata": {},
     "output_type": "execute_result"
    }
   ],
   "source": [
    "df_meta.groupby([\"type\"])[\"type\"].count()"
   ]
  },
  {
   "cell_type": "code",
   "execution_count": null,
   "id": "36bc5268",
   "metadata": {},
   "outputs": [],
   "source": []
  }
 ],
 "metadata": {
  "kernelspec": {
   "display_name": "venv",
   "language": "python",
   "name": "python3"
  },
  "language_info": {
   "codemirror_mode": {
    "name": "ipython",
    "version": 3
   },
   "file_extension": ".py",
   "mimetype": "text/x-python",
   "name": "python",
   "nbconvert_exporter": "python",
   "pygments_lexer": "ipython3",
   "version": "3.11.9"
  }
 },
 "nbformat": 4,
 "nbformat_minor": 5
}
